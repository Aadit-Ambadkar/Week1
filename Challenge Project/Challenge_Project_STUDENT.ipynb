{
 "cells": [
  {
   "attachments": {},
   "cell_type": "markdown",
   "metadata": {
    "cell_id": "00000-8b5d522d-fc03-43db-aaff-a40f052bec90",
    "colab_type": "text",
    "deepnote_cell_type": "markdown",
    "id": "XQDE8pPCpFRb"
   },
   "source": [
    "# Week 1 Challenge Project\n",
    "### Lyle Lalunio\n",
    "---\n",
    "Hypothyroidism, also called underactive thyroid or low thyroid, is a disorder of the endocrine system in which the thyroid gland does not produce enough thyroid hormone. It can cause a number of symptoms, such as poor ability to tolerate cold, a feeling of tiredness, constipation, depression, and weight gain. Occasionally there may be swelling of the front part of the neck due to goitre. Untreated hypothyroidism during pregnancy can lead to delays in growth and intellectual development in the baby or cretinism.\n",
    "\n",
    "Worldwide, too little iodine in the diet is the most common cause of hypothyroidism. In countries with enough iodine in the diet, the most common cause of hypothyroidism is the autoimmune condition Hashimoto's thyroiditis. Less common causes include: previous treatment with radioactive iodine, injury to the hypothalamus or the anterior pituitary gland, certain medications, a lack of a functioning thyroid at birth, or previous thyroid surgery. The diagnosis of hypothyroidism, when suspected, can be confirmed with blood tests measuring thyroid-stimulating hormone (TSH) and thyroxine levels.\n",
    "\n",
    "Worldwide about one billion people are estimated to be iodine deficient; however, it is unknown how often this results in hypothyroidism. In the United States, hypothyroidism occurs in 0.3–0.4% of people.\n",
    "\n",
    "And that is why we iodize salt.\n",
    "\n",
    "![alt text](https://www.mayoclinic.org/-/media/kcms/gbs/patient-consumer/images/2013/11/15/17/39/ds00181_-ds00344_-ds00353_-ds00491_-ds00492_-ds00567_-ds00660_-my00709_im01872_thyroid_gif.jpg)\n",
    "\n"
   ]
  },
  {
   "attachments": {},
   "cell_type": "markdown",
   "metadata": {
    "cell_id": "00001-0e5a6dfa-b096-43d7-b48a-e2621857d4f4",
    "colab_type": "text",
    "deepnote_cell_type": "markdown",
    "id": "OFF1-BLiSLZ8"
   },
   "source": [
    "Background: Doctors all around the world need our help to predict whether a patient has hypothyroid disease. We have already overspent our budget to collect such complete data on about 30 attributes for 2800 patients--a good starting number, but a larger sample would certainly be preferred. Moving forward, however, we simply cannot afford to spend so much money on data collection. Therefore, we also need to determine which attributes are the most meaningful to the predictive models, and cut out the rest that don't contribute much. \n",
    "\n",
    "The boss wants to see a **balanced** model that can predict with a **high sensitivity** and **high specificity** while using a ***low amount of features***. Collecting complete data such as this is very rare, very time-consuming, and often very expensive. By minimizing the number of features, it will optimize future data collection by deciding what needs to be collected, and what doesn't."
   ]
  },
  {
   "attachments": {},
   "cell_type": "markdown",
   "metadata": {
    "cell_id": "00002-b5d69cb5-0118-40c5-b8a2-fb1f84c8a4ac",
    "colab_type": "text",
    "deepnote_cell_type": "markdown",
    "id": "HsZB_SGvp4mP"
   },
   "source": [
    "## Loading the data"
   ]
  },
  {
   "attachments": {},
   "cell_type": "markdown",
   "metadata": {
    "cell_id": "00003-c0f7d2a4-4fa9-4018-a10d-9368c9ec1204",
    "colab_type": "text",
    "deepnote_cell_type": "markdown",
    "id": "DWrUz9OQ0uAU"
   },
   "source": [
    "Let's read the data into a Pandas dataframe and look at the first 20 records."
   ]
  },
  {
   "cell_type": "code",
   "execution_count": 1,
   "metadata": {
    "cell_id": "00004-4c43f37e-a713-4459-a63a-b7c11bec377c",
    "colab": {
     "autoexec": {
      "startup": false,
      "wait_interval": 0
     }
    },
    "colab_type": "code",
    "deepnote_cell_type": "code",
    "deepnote_to_be_reexecuted": false,
    "execution_millis": 5,
    "execution_start": 1625754717639,
    "id": "s9AtXQPkzC8j",
    "source_hash": "cc30a1b"
   },
   "outputs": [],
   "source": [
    "import pandas as po\n",
    "### Your code here"
   ]
  },
  {
   "cell_type": "code",
   "execution_count": null,
   "metadata": {
    "cell_id": "00005-be250d89-6f37-46bc-95df-9c79159d1b21",
    "deepnote_cell_type": "code",
    "tags": []
   },
   "outputs": [],
   "source": [
    "dataset.columns = ['Age', 'Sex', 'On Thyroxine', 'Query on Thyroxine', 'On Antithyroid Medication', 'Sick', 'Pregnant', 'Thyroid Surgery', 'I131 Treatment', 'Query Hypothyroid', 'Query Hyperthyroid', 'Lithium', 'Goiter', 'Tumor', 'Hypopituitary', 'Psych', 'TSH Measured', 'TSH', 'T3 Measured', 'T3', 'TT4 Measured', 'TT4', 'T4U Measured', 'T4U', 'FTI Measured', 'FTI', 'TBG Measured', 'TBG', 'Referral Source', 'Class']"
   ]
  },
  {
   "attachments": {},
   "cell_type": "markdown",
   "metadata": {
    "cell_id": "00005-f0353135-7fee-4c88-96f3-1874b7fd9b18",
    "colab_type": "text",
    "deepnote_cell_type": "markdown",
    "id": "tYhtoqdR6Y3J"
   },
   "source": [
    "Great, looks like the data loaded in properly. Let's continue looking at some summary statistics on our data."
   ]
  },
  {
   "attachments": {},
   "cell_type": "markdown",
   "metadata": {
    "cell_id": "00006-86706ee1-5d51-44f9-847b-471d75f7193c",
    "colab_type": "text",
    "deepnote_cell_type": "markdown",
    "id": "sGKbG-eBqBjF"
   },
   "source": [
    "## Viewing summary statistics\n",
    "The functions describe() and info() are your friends"
   ]
  },
  {
   "cell_type": "code",
   "execution_count": null,
   "metadata": {
    "cell_id": "00007-6c5d1792-60ac-4055-a37e-481025d882bf",
    "colab": {
     "autoexec": {
      "startup": false,
      "wait_interval": 0
     }
    },
    "colab_type": "code",
    "deepnote_cell_type": "code",
    "deepnote_to_be_reexecuted": false,
    "execution_millis": 150,
    "execution_start": 1625754719449,
    "id": "rnp3nN9b6ZNw",
    "source_hash": "674a2a6"
   },
   "outputs": [],
   "source": [
    "# output high-level column statistics\n",
    "dataset.describe()"
   ]
  },
  {
   "cell_type": "code",
   "execution_count": null,
   "metadata": {
    "cell_id": "00008-a391e6da-8ee5-454d-a730-ae11b3937f1a",
    "colab": {
     "autoexec": {
      "startup": false,
      "wait_interval": 0
     }
    },
    "colab_type": "code",
    "deepnote_cell_type": "code",
    "deepnote_to_be_reexecuted": false,
    "execution_millis": 13,
    "execution_start": 1625754719955,
    "id": "9QndSspU7lW4",
    "source_hash": "90f3a161"
   },
   "outputs": [],
   "source": [
    "# output information about the data including the index dtype and column dtypes, non-null values and memory usage\n",
    "dataset.info()"
   ]
  },
  {
   "attachments": {},
   "cell_type": "markdown",
   "metadata": {
    "cell_id": "00009-78093fca-671c-43cb-93cf-b2669de1b5e2",
    "colab_type": "text",
    "deepnote_cell_type": "markdown",
    "id": "olpFokrp8AIH"
   },
   "source": [
    "Note the data types are all objects--even columns that are obviously numeric like Age. This is because there are \"?\" values for some of the cells, making pandas interpret these columns as non-null objects (instead of int, for example)."
   ]
  },
  {
   "attachments": {},
   "cell_type": "markdown",
   "metadata": {
    "cell_id": "00010-dfb76c7b-2af8-4815-abbf-b1f890b8dc2c",
    "colab_type": "text",
    "deepnote_cell_type": "markdown",
    "id": "0emOppVyqQS9"
   },
   "source": [
    "## Data cleaning"
   ]
  },
  {
   "attachments": {},
   "cell_type": "markdown",
   "metadata": {
    "cell_id": "00011-fdede008-a1e0-4f04-a098-0a4066a990bb",
    "colab_type": "text",
    "deepnote_cell_type": "markdown",
    "id": "ZRQpnByEWrcx"
   },
   "source": [
    "To start, let's make all the numerical columns contain the correct type of values and change the data type of those columns to numeric. Let's also replace all those question marks with the median of the respective column.\n",
    "\n",
    "Hint: To make it easier, first try converting all the \"?\" to NaN."
   ]
  },
  {
   "cell_type": "code",
   "execution_count": null,
   "metadata": {
    "cell_id": "00012-5ad45718-f562-44fa-af92-c8cac4c9cf5e",
    "colab": {
     "autoexec": {
      "startup": false,
      "wait_interval": 0
     }
    },
    "colab_type": "code",
    "deepnote_cell_type": "code",
    "id": "BlTsaK5n5Bg1"
   },
   "outputs": [],
   "source": [
    "import numpy as np\n",
    "\n",
    "### your code here"
   ]
  },
  {
   "attachments": {},
   "cell_type": "markdown",
   "metadata": {
    "cell_id": "00013-e17ed78a-5ad6-4e5f-bc07-60cb25a0cd49",
    "colab_type": "text",
    "deepnote_cell_type": "markdown",
    "id": "HZo7iKHUD3DG"
   },
   "source": [
    "Hmm, still looks like the TBG column is unfilled, implying it was empty to begin with. Let's get rid of this column, then (and make sure to get rid of it in your list of numeric columns, too!)"
   ]
  },
  {
   "cell_type": "code",
   "execution_count": null,
   "metadata": {
    "cell_id": "00014-e0252e39-cf2c-4c89-b151-42ae67b62c9b",
    "colab": {
     "autoexec": {
      "startup": false,
      "wait_interval": 0
     }
    },
    "colab_type": "code",
    "deepnote_cell_type": "code",
    "id": "yAe5FIFkD25f"
   },
   "outputs": [],
   "source": [
    "### Your code here"
   ]
  },
  {
   "attachments": {},
   "cell_type": "markdown",
   "metadata": {
    "cell_id": "00015-ff8e61fb-32a7-43f3-bcb4-926e42ac0a77",
    "colab_type": "text",
    "deepnote_cell_type": "markdown",
    "id": "DTjWD_ddCHsA"
   },
   "source": [
    "All right, let's take a look now at the info of *just the numeric columns* in the dataset:"
   ]
  },
  {
   "cell_type": "code",
   "execution_count": null,
   "metadata": {
    "cell_id": "00016-2494c0dd-69f5-4ac5-a081-dfebc59f999c",
    "colab": {
     "autoexec": {
      "startup": false,
      "wait_interval": 0
     }
    },
    "colab_type": "code",
    "deepnote_cell_type": "code",
    "id": "00OaxCAbzRvA"
   },
   "outputs": [],
   "source": [
    "dataset[numeric_columns].info()"
   ]
  },
  {
   "attachments": {},
   "cell_type": "markdown",
   "metadata": {
    "cell_id": "00017-f251e70d-2ccd-4bee-a053-a6df8755d5d4",
    "colab_type": "text",
    "deepnote_cell_type": "markdown",
    "id": "XOzcRX-5YRvz"
   },
   "source": [
    "Perfect, now let's fix that class feature. According to the note the data collectors included with this data, the \".|####\" refers to a patient number, and is not necessarily relevant for our purposes here."
   ]
  },
  {
   "cell_type": "code",
   "execution_count": null,
   "metadata": {
    "cell_id": "00018-3ff01c7d-6ca4-4007-9427-4166bc1e560b",
    "colab": {
     "autoexec": {
      "startup": false,
      "wait_interval": 0
     }
    },
    "colab_type": "code",
    "deepnote_cell_type": "code",
    "id": "QFmeyRcGYR7s"
   },
   "outputs": [],
   "source": [
    "### Your code here"
   ]
  },
  {
   "attachments": {},
   "cell_type": "markdown",
   "metadata": {
    "cell_id": "00019-66ba0c9c-aabd-4e07-a944-81504329dd89",
    "colab_type": "text",
    "deepnote_cell_type": "markdown",
    "id": "KYOwWnpqhQvd"
   },
   "source": [
    "Let's run the describe() function on just the \"class\" column."
   ]
  },
  {
   "cell_type": "code",
   "execution_count": 10,
   "metadata": {
    "cell_id": "00020-1367e747-df0b-414e-b579-f4332435c8e1",
    "colab": {
     "autoexec": {
      "startup": false,
      "wait_interval": 0
     },
     "base_uri": "https://localhost:8080/",
     "height": 105
    },
    "colab_type": "code",
    "deepnote_cell_type": "code",
    "executionInfo": {
     "elapsed": 272,
     "status": "ok",
     "timestamp": 1531117211963,
     "user": {
      "displayName": "Lyle Lalunio",
      "photoUrl": "https://lh3.googleusercontent.com/a/default-user=s128",
      "userId": "108954789805627648380"
     },
     "user_tz": 240
    },
    "id": "cq_v45R8hP5A",
    "outputId": "5db97e80-a424-49c9-d58f-a7126894d1c6"
   },
   "outputs": [
    {
     "data": {
      "text/plain": [
       "count         2800\n",
       "unique           4\n",
       "top       negative\n",
       "freq          2580\n",
       "Name: class, dtype: object"
      ]
     },
     "execution_count": 10,
     "metadata": {
      "tags": []
     },
     "output_type": "execute_result"
    }
   ],
   "source": [
    "dataset['Class'].describe()"
   ]
  },
  {
   "attachments": {},
   "cell_type": "markdown",
   "metadata": {
    "cell_id": "00021-214b1f27-55d2-4b14-962a-ee2f6a40d7a6",
    "colab_type": "text",
    "deepnote_cell_type": "markdown",
    "id": "m6S7Y6VXhYct"
   },
   "source": [
    "It looks like there are actually 4 unique classification variables! Thank goodness we didn't assume it was binary.\n",
    "\n",
    "Display all the unique values in the class column."
   ]
  },
  {
   "cell_type": "code",
   "execution_count": null,
   "metadata": {
    "cell_id": "00022-2741982f-4184-478c-8307-06e618d5d71a",
    "colab": {
     "autoexec": {
      "startup": false,
      "wait_interval": 0
     }
    },
    "colab_type": "code",
    "deepnote_cell_type": "code",
    "id": "oH0fTzzvE-oF"
   },
   "outputs": [],
   "source": [
    "### Your code here"
   ]
  },
  {
   "attachments": {},
   "cell_type": "markdown",
   "metadata": {
    "cell_id": "00023-d91a3557-da51-49d2-a0b0-b1ba913c638f",
    "colab_type": "text",
    "deepnote_cell_type": "markdown",
    "id": "aBrmRJHakpWm"
   },
   "source": [
    "But let's make it binary for the sake of this example anyway. If you finish early later on, try the multiclass classifier with all 4 values!"
   ]
  },
  {
   "cell_type": "code",
   "execution_count": null,
   "metadata": {
    "cell_id": "00024-df72775d-91e6-4626-b40c-db048f27370d",
    "colab": {
     "autoexec": {
      "startup": false,
      "wait_interval": 0
     }
    },
    "colab_type": "code",
    "deepnote_cell_type": "code",
    "id": "HwqVoUFTkoa0"
   },
   "outputs": [],
   "source": [
    "### Your code here"
   ]
  },
  {
   "attachments": {},
   "cell_type": "markdown",
   "metadata": {
    "cell_id": "00025-4254945e-4327-4176-99e3-1513627b43ec",
    "colab_type": "text",
    "deepnote_cell_type": "markdown",
    "id": "jbgWOvekhluw"
   },
   "source": [
    "Before we move on, let's not forget to run the describe() function on just  your categorical columns, too.\n",
    "Compare it to the describe() that your numeric columns produce."
   ]
  },
  {
   "cell_type": "code",
   "execution_count": null,
   "metadata": {
    "cell_id": "00026-53760f2b-50ed-4d67-88a0-c5c4877696c0",
    "colab": {
     "autoexec": {
      "startup": false,
      "wait_interval": 0
     }
    },
    "colab_type": "code",
    "deepnote_cell_type": "code",
    "id": "WHAZCbNAc5KT"
   },
   "outputs": [],
   "source": [
    "### Your code here"
   ]
  },
  {
   "attachments": {},
   "cell_type": "markdown",
   "metadata": {
    "cell_id": "00027-3c662a88-d2e9-4efa-93a3-bebb230dabcc",
    "colab_type": "text",
    "deepnote_cell_type": "markdown",
    "id": "Jo9aRzltCOK8"
   },
   "source": [
    "Great! Let's see if there's any other records we have to address. count() is a nice way to check if we have any other missing values."
   ]
  },
  {
   "cell_type": "code",
   "execution_count": null,
   "metadata": {
    "cell_id": "00028-ebd9756e-fd9e-44f1-859b-d7f7a393821c",
    "colab": {
     "autoexec": {
      "startup": false,
      "wait_interval": 0
     }
    },
    "colab_type": "code",
    "deepnote_cell_type": "code",
    "id": "Q1yGe8nrzozW"
   },
   "outputs": [],
   "source": [
    "dataset.count()"
   ]
  },
  {
   "attachments": {},
   "cell_type": "markdown",
   "metadata": {
    "cell_id": "00029-e3fd0fcd-0d18-44a2-a05d-8cb82d03df9e",
    "colab_type": "text",
    "deepnote_cell_type": "markdown",
    "id": "-Y9DDq8qCeL8"
   },
   "source": [
    "We could replace the missing values in proportion to the current number of males and females over the total, but that is making an assumption we don't have to make. For now, let's simply cut the records of all these sexless people out of our data."
   ]
  },
  {
   "cell_type": "code",
   "execution_count": null,
   "metadata": {
    "cell_id": "00030-58548724-742a-46dd-b3c3-385331d54e45",
    "colab": {
     "autoexec": {
      "startup": false,
      "wait_interval": 0
     }
    },
    "colab_type": "code",
    "deepnote_cell_type": "code",
    "id": "1E6qS7F5zyt3"
   },
   "outputs": [],
   "source": [
    "### Your code here"
   ]
  },
  {
   "attachments": {},
   "cell_type": "markdown",
   "metadata": {
    "cell_id": "00031-9c48d9a8-de4c-47f8-b216-2d513ccd1e60",
    "colab_type": "text",
    "deepnote_cell_type": "markdown",
    "id": "eTcS25EHF4vL"
   },
   "source": [
    "Nice! Now we have a pretty clean dataset to work with. Let's now do some further data analysis and visualization to better understand what we're working with."
   ]
  },
  {
   "attachments": {},
   "cell_type": "markdown",
   "metadata": {
    "cell_id": "00032-3f0ec780-a580-48d9-9af1-06db3d8591d2",
    "colab_type": "text",
    "deepnote_cell_type": "markdown",
    "id": "SsiaTCjQql3S"
   },
   "source": [
    "## Data analysis and visualization"
   ]
  },
  {
   "attachments": {},
   "cell_type": "markdown",
   "metadata": {
    "cell_id": "00033-220c09f0-3cd5-499d-8f19-aadc8492b45d",
    "colab_type": "text",
    "deepnote_cell_type": "markdown",
    "id": "huFOG2Mw3OqJ"
   },
   "source": [
    "Check the correlation of the dataset"
   ]
  },
  {
   "cell_type": "code",
   "execution_count": null,
   "metadata": {
    "cell_id": "00034-d2ffd0d7-43eb-473f-9748-36ef544a7e8a",
    "colab": {
     "autoexec": {
      "startup": false,
      "wait_interval": 0
     }
    },
    "colab_type": "code",
    "deepnote_cell_type": "code",
    "id": "fXrXSMW_GSeT"
   },
   "outputs": [],
   "source": [
    "### Your code here"
   ]
  },
  {
   "attachments": {},
   "cell_type": "markdown",
   "metadata": {
    "cell_id": "00035-009ef908-375d-4cfb-8820-53547f2f5461",
    "colab_type": "text",
    "deepnote_cell_type": "markdown",
    "id": "scfm6AEv3YIJ"
   },
   "source": [
    "Convert the class feature to numeric so we can also see the correlations it has with the numeric features, and check the correlation again."
   ]
  },
  {
   "cell_type": "code",
   "execution_count": null,
   "metadata": {
    "cell_id": "00036-4f410299-8716-466a-823f-b84324a8eaeb",
    "colab": {
     "autoexec": {
      "startup": false,
      "wait_interval": 0
     }
    },
    "colab_type": "code",
    "deepnote_cell_type": "code",
    "id": "2bGleemH3o3b"
   },
   "outputs": [],
   "source": [
    "import pandas as po\n",
    "\n",
    "### Your code here"
   ]
  },
  {
   "attachments": {},
   "cell_type": "markdown",
   "metadata": {
    "cell_id": "00037-9dc89e4b-5eab-4127-997c-1bc5e020e967",
    "colab_type": "text",
    "deepnote_cell_type": "markdown",
    "id": "tp4yO5kUGd3L"
   },
   "source": [
    "Let's do some further visual analysis using a new module called seaborn. Explore its incredible versatility and diversity with data visualization here: https://seaborn.pydata.org/"
   ]
  },
  {
   "cell_type": "code",
   "execution_count": null,
   "metadata": {
    "cell_id": "00038-0099c19e-be78-487c-80f7-3d8583fb7dea",
    "colab": {
     "autoexec": {
      "startup": false,
      "wait_interval": 0
     }
    },
    "colab_type": "code",
    "deepnote_cell_type": "code",
    "id": "JzkaBa64aXzb"
   },
   "outputs": [],
   "source": [
    "import seaborn as sns\n",
    "sns.pairplot(copy)"
   ]
  },
  {
   "attachments": {},
   "cell_type": "markdown",
   "metadata": {
    "cell_id": "00039-db4ba8e1-86fe-4e8b-afbc-b3d3fd0b6bf5",
    "colab_type": "text",
    "deepnote_cell_type": "markdown",
    "id": "mvW7_0aWFSEm"
   },
   "source": [
    "OK! I think we're ready to create and select some supervised learning models. To get the ball rolling, select Age and Sex as our explanatory features (and class as the target feature, obviously)."
   ]
  },
  {
   "attachments": {},
   "cell_type": "markdown",
   "metadata": {
    "cell_id": "00040-baeba808-03ab-4719-b8a9-92d04f4c3e24",
    "colab_type": "text",
    "deepnote_cell_type": "markdown",
    "id": "JXMQ9UaKqyha"
   },
   "source": [
    "## Model training and selection"
   ]
  },
  {
   "attachments": {},
   "cell_type": "markdown",
   "metadata": {
    "cell_id": "00041-2bf90da0-c9fc-4816-8216-ed709f798b1a",
    "colab_type": "text",
    "deepnote_cell_type": "markdown",
    "id": "Mon3ih88tW8y"
   },
   "source": [
    "Let's dummy the categorical variables (but not the class value!) and view the column names to select some for our model."
   ]
  },
  {
   "cell_type": "code",
   "execution_count": null,
   "metadata": {
    "cell_id": "00042-c4328e17-da04-4472-8eda-fe2de2e12a77",
    "colab": {
     "autoexec": {
      "startup": false,
      "wait_interval": 0
     }
    },
    "colab_type": "code",
    "deepnote_cell_type": "code",
    "id": "1NqvPYi6itkH"
   },
   "outputs": [],
   "source": [
    "### Your code here"
   ]
  },
  {
   "attachments": {},
   "cell_type": "markdown",
   "metadata": {
    "cell_id": "00043-09382447-ebda-47af-b74e-f30e189109fb",
    "colab_type": "text",
    "deepnote_cell_type": "markdown",
    "id": "4yEeqjv19hCX"
   },
   "source": [
    "All right, let's now split our data into training and testing in an 80-20 split. For consistency, let's all use a seed of 8675309."
   ]
  },
  {
   "cell_type": "code",
   "execution_count": 24,
   "metadata": {
    "cell_id": "00044-4294e06b-991f-493b-9395-85f891db8ee7",
    "colab": {
     "autoexec": {
      "startup": false,
      "wait_interval": 0
     },
     "base_uri": "https://localhost:8080/",
     "height": 36
    },
    "colab_type": "code",
    "deepnote_cell_type": "code",
    "executionInfo": {
     "elapsed": 452,
     "status": "ok",
     "timestamp": 1531117461829,
     "user": {
      "displayName": "Lyle Lalunio",
      "photoUrl": "https://lh3.googleusercontent.com/a/default-user=s128",
      "userId": "108954789805627648380"
     },
     "user_tz": 240
    },
    "id": "GQqlCTGntXCX",
    "outputId": "17fb180a-5a12-4890-8de2-2b2d73bfe9df"
   },
   "outputs": [],
   "source": [
    "from sklearn.model_selection import train_test_split\n",
    "\n",
    "## Your code here"
   ]
  },
  {
   "attachments": {},
   "cell_type": "markdown",
   "metadata": {
    "cell_id": "00045-bf459db7-a71b-4abb-8916-3cb1a58ada89",
    "colab_type": "text",
    "deepnote_cell_type": "markdown",
    "id": "6KGUCXBE-OFy"
   },
   "source": [
    "For reusability, let's make a logistic regression function that will take our training and testing data as arguments. Inside the function, build a model on your training data, fit it with your training class data, and return a list of your predictions."
   ]
  },
  {
   "cell_type": "code",
   "execution_count": null,
   "metadata": {
    "cell_id": "00046-695eea46-1d15-4efe-bc7c-093eb04269c2",
    "colab": {
     "autoexec": {
      "startup": false,
      "wait_interval": 0
     }
    },
    "colab_type": "code",
    "deepnote_cell_type": "code",
    "id": "DawvoHd7lnG9"
   },
   "outputs": [],
   "source": [
    "from sklearn import metrics\n",
    "from sklearn.linear_model import LogisticRegression\n",
    "\n",
    "def log_reg(train_X,train_Y,test_X,test_Y):\n",
    "\n",
    "  ### Your code here"
   ]
  },
  {
   "attachments": {},
   "cell_type": "markdown",
   "metadata": {
    "cell_id": "00047-37b44b5b-b8ae-425a-a8df-5c1cd90e0b18",
    "colab_type": "text",
    "deepnote_cell_type": "markdown",
    "id": "JR8xu_VVsygN"
   },
   "source": [
    "Fantastic, we have just built a logistic regression model! Let's go see how well it performs."
   ]
  },
  {
   "attachments": {},
   "cell_type": "markdown",
   "metadata": {
    "cell_id": "00048-9b4292d9-2696-491a-8090-5bdf7b2c819f",
    "colab_type": "text",
    "deepnote_cell_type": "markdown",
    "id": "gAz096POwSRJ"
   },
   "source": [
    "### Model evaluation"
   ]
  },
  {
   "attachments": {},
   "cell_type": "markdown",
   "metadata": {
    "cell_id": "00049-a83a02f3-350a-4e1f-aa28-eb55b903bade",
    "colab_type": "text",
    "deepnote_cell_type": "markdown",
    "id": "570duVNhrTZh"
   },
   "source": [
    "To start, let's establish the baseline performance. This is important because it provides a starting point of comparison for later evaluation methods, like accuracy.\n",
    "\n",
    "A good baseline model to use is the Zero Rule algorithm. In classification problems, it simply predicts the class value with the greatest number of instances every time."
   ]
  },
  {
   "cell_type": "code",
   "execution_count": null,
   "metadata": {
    "cell_id": "00050-477019de-a4be-420d-93db-ca884321cfb7",
    "colab": {
     "autoexec": {
      "startup": false,
      "wait_interval": 0
     }
    },
    "colab_type": "code",
    "deepnote_cell_type": "code",
    "id": "fwvqucK_Yg-2"
   },
   "outputs": [],
   "source": [
    "def zero_rule_algorithm_classification(train,test):\n",
    "  ## Your code here"
   ]
  },
  {
   "attachments": {},
   "cell_type": "markdown",
   "metadata": {
    "cell_id": "00051-a1aaeceb-7bab-4913-aa74-5cd53912ab2e",
    "colab_type": "text",
    "deepnote_cell_type": "markdown",
    "id": "I_nExUgUYll5"
   },
   "source": [
    "Get your baseline performance by calculating the accuracy of your Zero Rule algorithm."
   ]
  },
  {
   "cell_type": "code",
   "execution_count": null,
   "metadata": {
    "cell_id": "00052-474d102a-35fc-4b83-bac2-0944830964f0",
    "colab": {
     "autoexec": {
      "startup": false,
      "wait_interval": 0
     }
    },
    "colab_type": "code",
    "deepnote_cell_type": "code",
    "id": "zs0M8OdtYidB"
   },
   "outputs": [],
   "source": [
    "## Your code here"
   ]
  },
  {
   "attachments": {},
   "cell_type": "markdown",
   "metadata": {
    "cell_id": "00053-4f9fd871-24ad-4bfd-a7ed-23bb9a14dbc0",
    "colab_type": "text",
    "deepnote_cell_type": "markdown",
    "id": "WksirqfT5Ecw"
   },
   "source": [
    "So maybe accuracy isn't the best performance measure for this dataset. As you've seen already, even when the models predict \"negative\" for all the records, we could already achieve a ~92% accuracy. However, that also implies we incorrectly predicted 100% of the positive cases, which in the context of this problem, is fatal.\n",
    "\n",
    "Thankfully, it isn't the only way to evaluate your model. Let's take a look at a confusion matrix.\n",
    "\n",
    "![alt text](https://i.imgur.com/uipmEwt.png)"
   ]
  },
  {
   "attachments": {},
   "cell_type": "markdown",
   "metadata": {
    "cell_id": "00054-618c508d-3ee7-4d02-9aea-739f3189b730",
    "colab_type": "text",
    "deepnote_cell_type": "markdown",
    "id": "-vzqX_SKaBzK"
   },
   "source": [
    "Create a confusion matrix using the logistic regression function you built earlier."
   ]
  },
  {
   "cell_type": "code",
   "execution_count": null,
   "metadata": {
    "cell_id": "00055-f5bb16f5-b948-487e-bf86-ddf09af4b7bc",
    "colab": {
     "autoexec": {
      "startup": false,
      "wait_interval": 0
     }
    },
    "colab_type": "code",
    "deepnote_cell_type": "code",
    "id": "DSS7JdYjaBWh"
   },
   "outputs": [],
   "source": [
    "from sklearn.metrics import confusion_matrix\n",
    "\n",
    "### Your code here"
   ]
  },
  {
   "attachments": {},
   "cell_type": "markdown",
   "metadata": {
    "cell_id": "00056-fdc3ef5e-8145-44a9-bb6a-3b892ca67fe1",
    "colab_type": "text",
    "deepnote_cell_type": "markdown",
    "id": "z0JPOHmQn8N6"
   },
   "source": [
    "\n",
    "Yet another appropriate metric is the Area Under the Receiver Operator Curve. Specifically, the diagnostic performance of a test, or the accuracy of a test to discriminate diseased cases from normal cases is evaluated using Receiver Operating Characteristic (ROC) curve analysis.\n",
    "\n",
    "When you consider the results of a particular test in two populations, one population with a disease, the other population without the disease, you will rarely observe a perfect separation between the two groups. Hence, the overlapping areas in the diagram below (FN, FP).\n",
    "\n",
    "In a Receiver Operating Characteristic (ROC) curve the true positive rate (Sensitivity) is plotted in function of the false positive rate (100-Specificity) for different cut-off points. Each point on the ROC curve represents a sensitivity/specificity pair corresponding to a particular decision threshold. A test with perfect discrimination (no overlap in the two distributions) has a ROC curve that passes through the upper left corner (100% sensitivity, 100% specificity). Therefore the closer the ROC curve is to the upper left corner, the higher the overall accuracy of the test.\n",
    "\n",
    "![alt text](https://www.medcalc.org/manual/_help/images/roc_intro1.png)\n",
    "\n",
    "\n",
    "\n"
   ]
  },
  {
   "attachments": {},
   "cell_type": "markdown",
   "metadata": {
    "cell_id": "00057-d9366daa-54a3-413a-bd9b-4fbaaff44823",
    "colab_type": "text",
    "deepnote_cell_type": "markdown",
    "id": "cvTWQTcycBEp"
   },
   "source": [
    "Now, to graph the AUROC curve, we will need to predict probabilities of choosing a specific class value rather than the class value itself. Make a new logistic regression model that does so."
   ]
  },
  {
   "cell_type": "code",
   "execution_count": null,
   "metadata": {
    "cell_id": "00058-b6e1ff9d-e15e-4dea-9fde-44bad027f6f1",
    "colab": {
     "autoexec": {
      "startup": false,
      "wait_interval": 0
     }
    },
    "colab_type": "code",
    "deepnote_cell_type": "code",
    "id": "Ur0s4m3kg3H-"
   },
   "outputs": [],
   "source": [
    "from sklearn.linear_model import LogisticRegression\n",
    "\n",
    "### Your code here"
   ]
  },
  {
   "attachments": {},
   "cell_type": "markdown",
   "metadata": {
    "cell_id": "00059-3b1177b1-8256-4c0b-9234-fdfb9d885e87",
    "colab_type": "text",
    "deepnote_cell_type": "markdown",
    "id": "Xm0yv6wmDnQz"
   },
   "source": [
    "Now calculate the area under the receiver operator curve with your predictions."
   ]
  },
  {
   "cell_type": "code",
   "execution_count": null,
   "metadata": {
    "cell_id": "00060-70a6cbb2-d481-4b98-8649-1e732e27808d",
    "colab": {
     "autoexec": {
      "startup": false,
      "wait_interval": 0
     }
    },
    "colab_type": "code",
    "deepnote_cell_type": "code",
    "id": "0xRxhlqbcc-I"
   },
   "outputs": [],
   "source": [
    "from sklearn import metrics\n",
    "\n",
    "### Your code here"
   ]
  },
  {
   "attachments": {},
   "cell_type": "markdown",
   "metadata": {
    "cell_id": "00061-6b112153-f2f7-4456-98e3-b6b5abf3e6d5",
    "colab_type": "text",
    "deepnote_cell_type": "markdown",
    "id": "w3hnQOGUczOn"
   },
   "source": [
    "Now graph the ROC curve using matplotlib, fully labeled."
   ]
  },
  {
   "cell_type": "code",
   "execution_count": null,
   "metadata": {
    "cell_id": "00062-58ed95d2-f259-4088-bf15-97c4d7da684d",
    "colab": {
     "autoexec": {
      "startup": false,
      "wait_interval": 0
     }
    },
    "colab_type": "code",
    "deepnote_cell_type": "code",
    "id": "JA-ieOGua55H"
   },
   "outputs": [],
   "source": [
    "import matplotlib.pyplot as plt\n",
    "\n",
    "### Your code here"
   ]
  },
  {
   "attachments": {},
   "cell_type": "markdown",
   "metadata": {
    "cell_id": "00063-d8d82abe-c6d0-42e4-83ee-0ede0bd75851",
    "colab_type": "text",
    "deepnote_cell_type": "markdown",
    "id": "5D4BtDZV6fxV"
   },
   "source": [
    "In conclusion, it looks like this model performed pretty bad. It's probably best to try out different columns or perhaps use a different model before we submit our model for scoring."
   ]
  },
  {
   "attachments": {},
   "cell_type": "markdown",
   "metadata": {
    "cell_id": "00064-ec6ed03f-6554-4d7a-b1ee-692862e12789",
    "colab_type": "text",
    "deepnote_cell_type": "markdown",
    "id": "5JW3myd8LHJy"
   },
   "source": [
    "# Submitting your Model"
   ]
  },
  {
   "attachments": {},
   "cell_type": "markdown",
   "metadata": {
    "cell_id": "00065-376d636e-e176-405e-bf34-8238704b8b12",
    "colab_type": "text",
    "deepnote_cell_type": "markdown",
    "id": "Wuexs1daLNBY"
   },
   "source": [
    "Once you believe to have found the best classifier, run your classifier on the test data and make a pickle file containing of your predictions contained a pandas dataframe.\n",
    "\n",
    "This pandas dataframe will contain three columns for your binary classifier (or 5 columns for the multiclass classifier): the first column should be your model's \"best guess\" for each patient (either 0 or 1, negative or positive) and the last two columns should be the probability the patient would be classified as either a 0 or 1.\n",
    "\n",
    "(see below for reference)"
   ]
  },
  {
   "cell_type": "code",
   "execution_count": null,
   "metadata": {
    "cell_id": "00066-10af5235-b89e-458a-9662-f0f792705571",
    "colab": {
     "autoexec": {
      "startup": false,
      "wait_interval": 0
     },
     "base_uri": "https://localhost:8080/",
     "height": 16
    },
    "colab_type": "code",
    "deepnote_cell_type": "code",
    "deepnote_to_be_reexecuted": false,
    "executionInfo": {
     "elapsed": 735,
     "status": "ok",
     "timestamp": 1531300930305,
     "user": {
      "displayName": "Lyle Lalunio",
      "photoUrl": "https://lh3.googleusercontent.com/a/default-user=s128",
      "userId": "108954789805627648380"
     },
     "user_tz": 240
    },
    "execution_millis": 615,
    "execution_start": 1625510171318,
    "id": "GkZOEgg3m3g1",
    "outputId": "6e113681-1554-4d5d-ee1a-14fce422cdfe",
    "source_hash": "6e54bb32"
   },
   "outputs": [],
   "source": [
    "# after running this cell, you should see the pickle file pop up in the file explorer to the left\n",
    "# use the three dots next to the filename to download the file\n",
    "# after downloading the pickle file, email it to medlytics23-staff@mit.edu\n",
    "import pickle\n",
    "predictions = po.DataFrame({\"guesses\":[0, 1, 0, 1],\"prob_neg\":[.75, .15, .63, .20],\"prob_pos\":[.25, .85, .27, .80]})\n",
    "prediction_pickle_path = 'prediction_pickle.pkl'\n",
    "\n",
    "# Create an variable to pickle and open it in write mode\n",
    "prediction_pickle = open(prediction_pickle_path, 'wb')\n",
    "pickle.dump(predictions, prediction_pickle)\n",
    "\n",
    "prediction_pickle.close()"
   ]
  },
  {
   "cell_type": "code",
   "execution_count": 31,
   "metadata": {
    "cell_id": "00067-bc594228-5e0f-4b77-a810-af748a352536",
    "colab": {
     "autoexec": {
      "startup": false,
      "wait_interval": 0
     },
     "base_uri": "https://localhost:8080/",
     "height": 105
    },
    "colab_type": "code",
    "deepnote_cell_type": "code",
    "executionInfo": {
     "elapsed": 263,
     "status": "ok",
     "timestamp": 1531301033636,
     "user": {
      "displayName": "Lyle Lalunio",
      "photoUrl": "https://lh3.googleusercontent.com/a/default-user=s128",
      "userId": "108954789805627648380"
     },
     "user_tz": 240
    },
    "id": "Dj6_AB6LnjrW",
    "outputId": "399f0da3-727f-4e2f-9213-385243a95553"
   },
   "outputs": [
    {
     "name": "stdout",
     "output_type": "stream",
     "text": [
      "   guesses  prob_neg  prob_pos\n",
      "0        0      0.75      0.25\n",
      "1        1      0.15      0.85\n",
      "2        0      0.63      0.27\n",
      "3        1      0.20      0.80\n"
     ]
    }
   ],
   "source": [
    "prediction_unpickle = open(prediction_pickle_path, 'rb')\n",
    " \n",
    "# load the unpickle object into a variable\n",
    "predictions = pickle.load(prediction_unpickle)\n",
    " \n",
    "print(predictions)"
   ]
  },
  {
   "attachments": {},
   "cell_type": "markdown",
   "metadata": {
    "cell_id": "00068-27fe8845-7bc3-47d1-80d8-4d0a9706d491",
    "colab_type": "text",
    "deepnote_cell_type": "markdown",
    "id": "GW27RtFNttQA"
   },
   "source": [
    "# Scoring your Model"
   ]
  },
  {
   "attachments": {},
   "cell_type": "markdown",
   "metadata": {
    "cell_id": "00069-d2f6afaa-cda0-49b1-9054-4584a4b7f46d",
    "colab_type": "text",
    "deepnote_cell_type": "markdown",
    "id": "iJdiisMerewv"
   },
   "source": [
    "\n",
    "**Area Under ROC Curve**: A receiver operating characteristic (ROC) curve plots the true positive rate (y) against the false positive rate (x) at many decision threshold settings (output < threshold = 0, output > threshold = 1). The area under this curve represents the probability that a classifier will rank a randomly chosen positive instance higher than a randomly chosen negative one.\n",
    "\n",
    "**Confusion Matrix**: You will receive a certain number of points for each correct classification and a certain point penalty for each incorrect classification. The points are weighted, and are designed to equate to 0 in a Zero Rule baseline model. This point scheme is designed to punish you heavily for predicting false positives (FP) and false negatives (FN)--FN cases especially. In doing so, we hope you see the importance of clinical considerations and treat your models from a more human perspective, rather than detached from it.\n",
    "\n",
    "**Real World Cost**: Similar to the confusion matrix, we want you to keep in mind the other aspects of healthcare analytics--in this case, economic feasibility. In essence, we want you to minimize the amount of time and money spent on data collection by reducing the number of features collected. Each record certainly required a lot of time and money from several individuals and businesses to reliably create, and we hope you gain a better understanding of conducting a useful cost-benefit analysis with this scoring method. The full details of the weighted features can be found in the GitHub."
   ]
  },
  {
   "attachments": {},
   "cell_type": "markdown",
   "metadata": {
    "cell_id": "00070-ffd8f065-4590-4610-a4ac-c66262c746f2",
    "colab_type": "text",
    "deepnote_cell_type": "markdown",
    "id": "w66lpbB6Qv_M"
   },
   "source": [
    "# Moving to the Next Level"
   ]
  },
  {
   "attachments": {},
   "cell_type": "markdown",
   "metadata": {
    "cell_id": "00071-f937a6d6-cc0c-4bbf-8bde-35b0720a893e",
    "colab_type": "text",
    "deepnote_cell_type": "markdown",
    "id": "X-HZ12lht_so"
   },
   "source": [
    "For those that finish early, remember how I converted the class values into simply \"negative\" and \"positive\"? Now try tackling the multiclass classifier (predicting the different types of positive hypothyroid cases instead of simply negative or positive)! \n",
    "\n",
    "The same rules apply!"
   ]
  },
  {
   "attachments": {},
   "cell_type": "markdown",
   "metadata": {
    "created_in_deepnote_cell": true,
    "deepnote_cell_type": "markdown",
    "tags": []
   },
   "source": [
    "<a style='text-decoration:none;line-height:16px;display:flex;color:#5B5B62;padding:10px;justify-content:end;' href='https://deepnote.com?utm_source=created-in-deepnote-cell&projectId=34ac619e-a8ba-4c02-b670-4f307fb3c5a3' target=\"_blank\">\n",
    "<img alt='Created in deepnote.com' style='display:inline;max-height:16px;margin:0px;margin-right:7.5px;' src='data:image/svg+xml;base64,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' > </img>\n",
    "Created in <span style='font-weight:600;margin-left:4px;'>Deepnote</span></a>"
   ]
  }
 ],
 "metadata": {
  "colab": {
   "collapsed_sections": [],
   "default_view": {},
   "name": "Challenge_Project_STUDENT.ipynb",
   "provenance": [],
   "version": "0.3.2",
   "views": {}
  },
  "deepnote": {},
  "deepnote_execution_queue": [],
  "deepnote_notebook_id": "f8c9caeb-052c-426a-b255-3c3b6ce5c5b0",
  "kernelspec": {
   "display_name": "Python 3",
   "language": "python",
   "name": "python3"
  },
  "language_info": {
   "codemirror_mode": {
    "name": "ipython",
    "version": 3
   },
   "file_extension": ".py",
   "mimetype": "text/x-python",
   "name": "python",
   "nbconvert_exporter": "python",
   "pygments_lexer": "ipython3",
   "version": "3.7.3"
  }
 },
 "nbformat": 4,
 "nbformat_minor": 1
}
